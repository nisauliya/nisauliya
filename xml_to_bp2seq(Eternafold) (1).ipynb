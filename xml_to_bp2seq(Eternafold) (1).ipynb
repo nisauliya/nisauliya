{
  "metadata": {
    "language_info": {
      "codemirror_mode": {
        "name": "python",
        "version": 3
      },
      "file_extension": ".py",
      "mimetype": "text/x-python",
      "name": "python",
      "nbconvert_exporter": "python",
      "pygments_lexer": "ipython3",
      "version": "3.8"
    },
    "kernelspec": {
      "name": "python",
      "display_name": "Python (Pyodide)",
      "language": "python"
    }
  },
  "nbformat_minor": 4,
  "nbformat": 4,
  "cells": [
    {
      "cell_type": "code",
      "source": "import xml.etree.ElementTree as ET    # XML file parsing module. XML file stores data in a tree form. The main element is the \"root\"\nimport numpy as np\n\ndef read_in_xml(xml_file, sample, with_stdev = False):   # xml_file = \"dsx1.xml\"; probably can skip \"sample\" if there is only 1 replicate\n\n    tree = ET.parse(xml_file)\n    root = tree.getroot()    # in this case, root = <data>. \n    # data has one child element (<transcript>, each has a few children, (<sequence> & <reactivity>), stored like an array)\n    \n    # parsing and storing the data in new variables\n    transcript_id = root[0].attrib[\"id\"]    # = \"dsx1\"\n    length = root[0].attrib[\"length\"]       # = \"395\"\n    sequence = root[0][0].text.replace(\"\\t\", \"\").replace(\"\\n\", \"\")    # the RNA sequence into one long string\n    reactivity = np.array(root[0][1].text.replace(\"\\t\", \"\").replace(\"\\n\", \"\").split(\",\")).astype(float)    # reactivity in array form\n    ''' reactivity = [0.002]\n                     [0.001]\n                     [NaN]\n                     ...\n        row number = 395\n        col number = 1\n    '''\n    \n    if with_stdev:    # used when there are more than 1 replicate, probably can be deleted otherwise\n        \n        stdev = np.array(root[0][2].text.replace(\"\\t\", \"\").replace(\"\\n\", \"\").split(\",\")).astype(float)\n        return {\"sample\" : sample, \n            \"transcript_id\" : transcript_id,\n            \"length\" : length,\n            \"sequence\" : sequence, \n            \"reactivity\" : reactivity,\n            \"stdev\": stdev\n           }\n    else:\n        return {\"sample\" : sample, \n            \"transcript_id\" : transcript_id,\n            \"length\" : length,\n            \"sequence\" : sequence, \n            \"reactivity\" : reactivity\n           }\n    \n    \ndef convert_xml_to_bpseq(xml_file,outfile):   # input file, output file name\n\n    tmp_data = read_in_xml(xml_file, \"\")\n    \n    # just storing reactivity and sequence in new variables\n    reactivities = tmp_data[\"reactivity\"]    # 395 x 1 array\n    sequence = list(tmp_data[\"sequence\"].replace(\"T\", \"U\"))    # turning the string sequence into a list of nucleotides and replacing T with U\n    \n    reactivities = np.nan_to_num(reactivities, nan=-1.0)    # replace NaN to -1.0, non-reactive\n    with open(outfile, \"w+\") as out:                      # opening the output file, \"w+\" means file is to be edited, the file is now named \"out\"\n        for i in np.arange(1,1+reactivities.shape[0]):   # looping from 1 to 395\n            position = int(i)\n            line = f\"{position} {sequence[position-1]} e1 {reactivities[position-1]}\\n\"   # basically rewriting the data into a new format\n            out.write(line)\n            \n            ''' how the new format might look like (I haven't tried this but this though)\n                1 C 0.002\n                2 A 0.001\n                3 G -1.0\n                4 T -1.0\n                ...\n            '''\n            \n#function to help predicting only part of an RNA isoform\n#you probably don't need this function. Let me know if you do\ndef convert_xml_to_bpseq_trimmed(xml_file,outfile, length):\n\n    tmp_data = read_in_xml(xml_file, \"\")\n\n    reactivities = tmp_data[\"reactivity\"][:length]\n    sequence = list(tmp_data[\"sequence\"].replace(\"T\", \"U\"))[:length]\n    \n    reactivities = np.nan_to_num(reactivities, nan=-1.0)\n    with open(outfile, \"w+\") as out:\n        for i in np.arange(1,1+reactivities.shape[0]):\n            position = int(i)\n            line = f\"{position} {sequence[position-1]} e1 {reactivities[position-1]}\\n\"\n            out.write(line)",
      "metadata": {},
      "execution_count": null,
      "outputs": []
    },
    {
      "cell_type": "code",
      "source": "# makes similar assumptions as rf-combine above\n#genrates a bp2seq file for use in Eternafold and a csv file for general use\n\nfor sample in samples:\n    if (\"Rep1\" in sample):\n        combined_sample = \"_\".join(sample.split(\"_\")[1:])\n\n        for option in [\"q22_eq10_ndni\"]: #[\"q22_eq10_ndni\", \"q22_eq10\", \"default\"]\n            for reactive_nt in [\"AC\", \"ACT\"]: #[\"ACGT\", \"AC\", \"ACT\", \"G\"]\n                for norm_option in [\"\"]: #[\"\", \"_raw\"]\n\n                    xml_combined = f\"{data_folder}/rfcombine/{combined_sample}/{option}_{reactive_nt}{norm_option}/{isoform}.xml\"\n                    if os.path.isfile(xml_combined):\n                        file = read_in_xml(xml_combined, combined_sample)\n                        reactivities = file[\"reactivity\"]\n                        reactivities = np.nan_to_num(reactivities, nan = -1)\n                        reactivity_file = xml_combined.replace(\".xml\", \".csv\")\n                        np.savetxt(reactivity_file, reactivities, fmt=\"%6f\")\n                        bp_file = xml_combined.replace(\".xml\", \".bp2seq\")\n                        convert_xml_to_bpseq(xml_combined, bp_file)\n\n                        #lower part is optional, was used to predict HIV-1 unspliced 5' UTR folding\n                        length = 380\n                        bp_file = bp_file.replace(\".bp2seq\", f\"_{length}nt.bp2seq\")\n                        convert_xml_to_bpseq_trimmed(xml_combined,bp_file, length)",
      "metadata": {},
      "execution_count": null,
      "outputs": []
    }
  ]
}